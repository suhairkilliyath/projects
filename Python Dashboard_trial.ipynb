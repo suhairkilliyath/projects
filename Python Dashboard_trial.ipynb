{
 "cells": [
  {
   "cell_type": "code",
   "execution_count": 48,
   "id": "73e85e23",
   "metadata": {
    "extensions": {
     "jupyter_dashboards": {
      "version": 1,
      "views": {
       "default_view": {
        "hidden": true
       }
      }
     }
    }
   },
   "outputs": [],
   "source": [
    "import pandas as pd\n",
    "import ipywidgets\n",
    "import plotly.express as px\n",
    "import ipywidgets as widgets"
   ]
  },
  {
   "cell_type": "code",
   "execution_count": 49,
   "id": "24b62a2f",
   "metadata": {
    "extensions": {
     "jupyter_dashboards": {
      "version": 1,
      "views": {
       "default_view": {
        "col": 0,
        "height": 10,
        "row": 7,
        "width": 12
       }
      }
     }
    }
   },
   "outputs": [
    {
     "ename": "KeyError",
     "evalue": "'Began'",
     "output_type": "error",
     "traceback": [
      "\u001b[0;31m---------------------------------------------------------------------------\u001b[0m",
      "\u001b[0;31mKeyError\u001b[0m                                  Traceback (most recent call last)",
      "\u001b[0;32m~/miniconda3/envs/work/lib/python3.9/site-packages/pandas/core/indexes/base.py\u001b[0m in \u001b[0;36mget_loc\u001b[0;34m(self, key, method, tolerance)\u001b[0m\n\u001b[1;32m   3079\u001b[0m             \u001b[0;32mtry\u001b[0m\u001b[0;34m:\u001b[0m\u001b[0;34m\u001b[0m\u001b[0;34m\u001b[0m\u001b[0m\n\u001b[0;32m-> 3080\u001b[0;31m                 \u001b[0;32mreturn\u001b[0m \u001b[0mself\u001b[0m\u001b[0;34m.\u001b[0m\u001b[0m_engine\u001b[0m\u001b[0;34m.\u001b[0m\u001b[0mget_loc\u001b[0m\u001b[0;34m(\u001b[0m\u001b[0mcasted_key\u001b[0m\u001b[0;34m)\u001b[0m\u001b[0;34m\u001b[0m\u001b[0;34m\u001b[0m\u001b[0m\n\u001b[0m\u001b[1;32m   3081\u001b[0m             \u001b[0;32mexcept\u001b[0m \u001b[0mKeyError\u001b[0m \u001b[0;32mas\u001b[0m \u001b[0merr\u001b[0m\u001b[0;34m:\u001b[0m\u001b[0;34m\u001b[0m\u001b[0;34m\u001b[0m\u001b[0m\n",
      "\u001b[0;32mpandas/_libs/index.pyx\u001b[0m in \u001b[0;36mpandas._libs.index.IndexEngine.get_loc\u001b[0;34m()\u001b[0m\n",
      "\u001b[0;32mpandas/_libs/index.pyx\u001b[0m in \u001b[0;36mpandas._libs.index.IndexEngine.get_loc\u001b[0;34m()\u001b[0m\n",
      "\u001b[0;32mpandas/_libs/hashtable_class_helper.pxi\u001b[0m in \u001b[0;36mpandas._libs.hashtable.PyObjectHashTable.get_item\u001b[0;34m()\u001b[0m\n",
      "\u001b[0;32mpandas/_libs/hashtable_class_helper.pxi\u001b[0m in \u001b[0;36mpandas._libs.hashtable.PyObjectHashTable.get_item\u001b[0;34m()\u001b[0m\n",
      "\u001b[0;31mKeyError\u001b[0m: 'Began'",
      "\nThe above exception was the direct cause of the following exception:\n",
      "\u001b[0;31mKeyError\u001b[0m                                  Traceback (most recent call last)",
      "\u001b[0;32m<ipython-input-49-6113b8e62fdb>\u001b[0m in \u001b[0;36m<module>\u001b[0;34m\u001b[0m\n\u001b[1;32m      1\u001b[0m \u001b[0mdf\u001b[0m \u001b[0;34m=\u001b[0m \u001b[0mpd\u001b[0m\u001b[0;34m.\u001b[0m\u001b[0mread_csv\u001b[0m\u001b[0;34m(\u001b[0m\u001b[0;34m'/Users/suhairkilliyath/Downloads/floods.csv'\u001b[0m\u001b[0;34m)\u001b[0m\u001b[0;34m\u001b[0m\u001b[0;34m\u001b[0m\u001b[0m\n\u001b[0;32m----> 2\u001b[0;31m \u001b[0mdf\u001b[0m\u001b[0;34m[\u001b[0m\u001b[0;34m'Year'\u001b[0m\u001b[0;34m]\u001b[0m \u001b[0;34m=\u001b[0m \u001b[0mpd\u001b[0m\u001b[0;34m.\u001b[0m\u001b[0mto_datetime\u001b[0m\u001b[0;34m(\u001b[0m\u001b[0mdf\u001b[0m\u001b[0;34m[\u001b[0m\u001b[0;34m'Began'\u001b[0m\u001b[0;34m]\u001b[0m\u001b[0;34m)\u001b[0m\u001b[0;34m.\u001b[0m\u001b[0mdt\u001b[0m\u001b[0;34m.\u001b[0m\u001b[0myear\u001b[0m\u001b[0;34m\u001b[0m\u001b[0;34m\u001b[0m\u001b[0m\n\u001b[0m\u001b[1;32m      3\u001b[0m \u001b[0mdf\u001b[0m\u001b[0;34m.\u001b[0m\u001b[0mhead\u001b[0m\u001b[0;34m(\u001b[0m\u001b[0;34m)\u001b[0m\u001b[0;34m\u001b[0m\u001b[0;34m\u001b[0m\u001b[0m\n",
      "\u001b[0;32m~/miniconda3/envs/work/lib/python3.9/site-packages/pandas/core/frame.py\u001b[0m in \u001b[0;36m__getitem__\u001b[0;34m(self, key)\u001b[0m\n\u001b[1;32m   3022\u001b[0m             \u001b[0;32mif\u001b[0m \u001b[0mself\u001b[0m\u001b[0;34m.\u001b[0m\u001b[0mcolumns\u001b[0m\u001b[0;34m.\u001b[0m\u001b[0mnlevels\u001b[0m \u001b[0;34m>\u001b[0m \u001b[0;36m1\u001b[0m\u001b[0;34m:\u001b[0m\u001b[0;34m\u001b[0m\u001b[0;34m\u001b[0m\u001b[0m\n\u001b[1;32m   3023\u001b[0m                 \u001b[0;32mreturn\u001b[0m \u001b[0mself\u001b[0m\u001b[0;34m.\u001b[0m\u001b[0m_getitem_multilevel\u001b[0m\u001b[0;34m(\u001b[0m\u001b[0mkey\u001b[0m\u001b[0;34m)\u001b[0m\u001b[0;34m\u001b[0m\u001b[0;34m\u001b[0m\u001b[0m\n\u001b[0;32m-> 3024\u001b[0;31m             \u001b[0mindexer\u001b[0m \u001b[0;34m=\u001b[0m \u001b[0mself\u001b[0m\u001b[0;34m.\u001b[0m\u001b[0mcolumns\u001b[0m\u001b[0;34m.\u001b[0m\u001b[0mget_loc\u001b[0m\u001b[0;34m(\u001b[0m\u001b[0mkey\u001b[0m\u001b[0;34m)\u001b[0m\u001b[0;34m\u001b[0m\u001b[0;34m\u001b[0m\u001b[0m\n\u001b[0m\u001b[1;32m   3025\u001b[0m             \u001b[0;32mif\u001b[0m \u001b[0mis_integer\u001b[0m\u001b[0;34m(\u001b[0m\u001b[0mindexer\u001b[0m\u001b[0;34m)\u001b[0m\u001b[0;34m:\u001b[0m\u001b[0;34m\u001b[0m\u001b[0;34m\u001b[0m\u001b[0m\n\u001b[1;32m   3026\u001b[0m                 \u001b[0mindexer\u001b[0m \u001b[0;34m=\u001b[0m \u001b[0;34m[\u001b[0m\u001b[0mindexer\u001b[0m\u001b[0;34m]\u001b[0m\u001b[0;34m\u001b[0m\u001b[0;34m\u001b[0m\u001b[0m\n",
      "\u001b[0;32m~/miniconda3/envs/work/lib/python3.9/site-packages/pandas/core/indexes/base.py\u001b[0m in \u001b[0;36mget_loc\u001b[0;34m(self, key, method, tolerance)\u001b[0m\n\u001b[1;32m   3080\u001b[0m                 \u001b[0;32mreturn\u001b[0m \u001b[0mself\u001b[0m\u001b[0;34m.\u001b[0m\u001b[0m_engine\u001b[0m\u001b[0;34m.\u001b[0m\u001b[0mget_loc\u001b[0m\u001b[0;34m(\u001b[0m\u001b[0mcasted_key\u001b[0m\u001b[0;34m)\u001b[0m\u001b[0;34m\u001b[0m\u001b[0;34m\u001b[0m\u001b[0m\n\u001b[1;32m   3081\u001b[0m             \u001b[0;32mexcept\u001b[0m \u001b[0mKeyError\u001b[0m \u001b[0;32mas\u001b[0m \u001b[0merr\u001b[0m\u001b[0;34m:\u001b[0m\u001b[0;34m\u001b[0m\u001b[0;34m\u001b[0m\u001b[0m\n\u001b[0;32m-> 3082\u001b[0;31m                 \u001b[0;32mraise\u001b[0m \u001b[0mKeyError\u001b[0m\u001b[0;34m(\u001b[0m\u001b[0mkey\u001b[0m\u001b[0;34m)\u001b[0m \u001b[0;32mfrom\u001b[0m \u001b[0merr\u001b[0m\u001b[0;34m\u001b[0m\u001b[0;34m\u001b[0m\u001b[0m\n\u001b[0m\u001b[1;32m   3083\u001b[0m \u001b[0;34m\u001b[0m\u001b[0m\n\u001b[1;32m   3084\u001b[0m         \u001b[0;32mif\u001b[0m \u001b[0mtolerance\u001b[0m \u001b[0;32mis\u001b[0m \u001b[0;32mnot\u001b[0m \u001b[0;32mNone\u001b[0m\u001b[0;34m:\u001b[0m\u001b[0;34m\u001b[0m\u001b[0;34m\u001b[0m\u001b[0m\n",
      "\u001b[0;31mKeyError\u001b[0m: 'Began'"
     ]
    }
   ],
   "source": [
    "df = pd.read_csv('/Users/suhairkilliyath/Downloads/floods.csv')\n",
    "df['Year'] = pd.to_datetime(df['Began']).dt.year\n",
    "df.head()"
   ]
  },
  {
   "cell_type": "code",
   "execution_count": 39,
   "id": "19217f96",
   "metadata": {
    "extensions": {
     "jupyter_dashboards": {
      "version": 1,
      "views": {
       "default_view": {
        "hidden": true
       }
      }
     }
    }
   },
   "outputs": [],
   "source": [
    "year_widget1 = widgets.IntRangeSlider(value=[2015, 2020], min=1985,\n",
    "        max=2020, step=1, description='Years:')"
   ]
  },
  {
   "cell_type": "code",
   "execution_count": 40,
   "id": "bfed585d",
   "metadata": {
    "extensions": {
     "jupyter_dashboards": {
      "version": 1,
      "views": {
       "default_view": {
        "col": 0,
        "height": 13,
        "row": 19,
        "width": 12
       }
      }
     }
    }
   },
   "outputs": [
    {
     "data": {
      "application/vnd.jupyter.widget-view+json": {
       "model_id": "3a500537dfce4a26aa3d63f910b6ea63",
       "version_major": 2,
       "version_minor": 0
      },
      "text/plain": [
       "interactive(children=(IntRangeSlider(value=(2015, 2020), description='Years:', max=2020, min=1985), Output()),…"
      ]
     },
     "metadata": {},
     "output_type": "display_data"
    }
   ],
   "source": [
    "@ipywidgets.interact(year=year_widget1)\n",
    "def geo_plot(year):\n",
    "    fig = px.scatter_mapbox(\n",
    "        df[df['Year'].between(year[0], year[1])],\n",
    "        lat='lat',\n",
    "        lon='long',\n",
    "        hover_name='Country',\n",
    "        size='Dead',\n",
    "        )\n",
    "    fig.update_layout(mapbox_style=\"open-street-map\")\n",
    "    fig.update_layout(margin={\"r\":0,\"t\":0,\"l\":0,\"b\":0})\n",
    "    fig.show()"
   ]
  },
  {
   "cell_type": "code",
   "execution_count": 41,
   "id": "67676a2b",
   "metadata": {
    "extensions": {
     "jupyter_dashboards": {
      "version": 1,
      "views": {
       "default_view": {
        "hidden": true
       }
      }
     }
    }
   },
   "outputs": [],
   "source": [
    "year_widget2 = widgets.IntRangeSlider(value=[2015, 2020], min=1985,\n",
    " max=2020, step=1, description= 'Years:')\n",
    "l = widgets.link((year_widget1, 'value'), (year_widget2, 'value'))"
   ]
  },
  {
   "cell_type": "code",
   "execution_count": 42,
   "id": "4530679a",
   "metadata": {
    "extensions": {
     "jupyter_dashboards": {
      "version": 1,
      "views": {
       "default_view": {
        "col": 6,
        "height": 13,
        "row": 34,
        "width": 6
       }
      }
     }
    }
   },
   "outputs": [
    {
     "data": {
      "application/vnd.jupyter.widget-view+json": {
       "model_id": "3d26fe49599f472a869a55172a0b1111",
       "version_major": 2,
       "version_minor": 0
      },
      "text/plain": [
       "interactive(children=(IntRangeSlider(value=(2015, 2020), description='Years:', max=2020, min=1985), Output()),…"
      ]
     },
     "metadata": {},
     "output_type": "display_data"
    }
   ],
   "source": [
    "@ipywidgets.interact(year=year_widget2)\n",
    "def bar_plot_causes(year):\n",
    "    causes = df[df['Year'].between(year[0],\n",
    "                year[1])].groupby(by=['Main cause'      ]).size().reset_index(name='counts')\n",
    "    causes = causes.sort_values(['counts'], ascending=False)[:10]\n",
    "    fig = px.bar(data_frame=causes, y= 'Main cause', x='counts')\n",
    "    year_widget2.layout.display = 'none'\n",
    "    fig.show()"
   ]
  },
  {
   "cell_type": "code",
   "execution_count": 43,
   "id": "c305f23c",
   "metadata": {
    "extensions": {
     "jupyter_dashboards": {
      "version": 1,
      "views": {
       "default_view": {
        "col": 0,
        "height": 13,
        "row": 34,
        "width": 6
       }
      }
     }
    }
   },
   "outputs": [
    {
     "data": {
      "application/vnd.jupyter.widget-view+json": {
       "model_id": "08c7400530e64ca7a9677d6e99f61753",
       "version_major": 2,
       "version_minor": 0
      },
      "text/plain": [
       "interactive(children=(IntRangeSlider(value=(2015, 2020), description='Years:', layout=Layout(display='none'), …"
      ]
     },
     "metadata": {},
     "output_type": "display_data"
    }
   ],
   "source": [
    "@ipywidgets.interact(year=year_widget2)\n",
    "def bar_plot_causes(year):\n",
    "    countries = df[df[\"Year\"].between(year[0], year[1])].groupby(by=[\"Country\"])[\"Dead\"].sum().reset_index(name=\"counts\")\n",
    "    countries = countries.sort_values(['counts'],ascending=False)[:10]\n",
    "    fig = px.bar(data_frame=countries, x=\"Country\", y=\"counts\")\n",
    "    year_widget2.layout.display = 'none'\n",
    "    fig.show()"
   ]
  },
  {
   "cell_type": "code",
   "execution_count": 44,
   "id": "88da6393",
   "metadata": {
    "extensions": {
     "jupyter_dashboards": {
      "version": 1,
      "views": {
       "default_view": {
        "hidden": true
       }
      }
     }
    }
   },
   "outputs": [],
   "source": [
    "# <center style=”color:blue”> World Wide Floods Dashboard </center> <center><img src=”flood_logo.png”/></center> <center> <b> Global Active Archive of Large Flood Events, 1985-Present. Dartmouth Flood Observatory, University of Colorado, USA.</b></center>"
   ]
  },
  {
   "cell_type": "code",
   "execution_count": 45,
   "id": "6bea1a1f",
   "metadata": {
    "extensions": {
     "jupyter_dashboards": {
      "version": 1,
      "views": {
       "default_view": {
        "col": 0,
        "height": 4,
        "row": 48,
        "width": 12
       }
      }
     }
    }
   },
   "outputs": [
    {
     "data": {
      "text/html": [
       "<style>\n",
       ".output {\n",
       "    align-items: center;\n",
       "}\n",
       "</style>"
      ],
      "text/plain": [
       "<IPython.core.display.HTML object>"
      ]
     },
     "execution_count": 45,
     "metadata": {},
     "output_type": "execute_result"
    }
   ],
   "source": [
    "from IPython.display import display, HTML\n",
    "CSS = \"\"\"\n",
    ".output {\n",
    "    align-items: center;\n",
    "}\n",
    "\"\"\"\n",
    "HTML('<style>{}</style>'.format(CSS))"
   ]
  },
  {
   "cell_type": "code",
   "execution_count": 46,
   "id": "0d39a9ba",
   "metadata": {
    "extensions": {
     "jupyter_dashboards": {
      "version": 1,
      "views": {
       "default_view": {
        "col": 0,
        "height": 3,
        "row": 2,
        "width": 12
       }
      }
     }
    }
   },
   "outputs": [
    {
     "data": {
      "application/vnd.jupyter.widget-view+json": {
       "model_id": "a552a12a79e34abb8c866d09928e2bc3",
       "version_major": 2,
       "version_minor": 0
      },
      "text/plain": [
       "interactive(children=(IntRangeSlider(value=(2015, 2020), description='Years:', layout=Layout(display='none'), …"
      ]
     },
     "metadata": {},
     "output_type": "display_data"
    }
   ],
   "source": [
    "@ipywidgets.interact(year=year_widget2)\n",
    "def calculate_period_death(year):\n",
    "    return display(widgets.HTML(value='<h3>Flooding Caused {size} Total <i>Death</i> for the selected Period</{size}></h3>'.format(size=df[df[\"Year\"].between(year[0], year[1])][\"Dead\"].sum())))"
   ]
  },
  {
   "cell_type": "code",
   "execution_count": 47,
   "id": "90c9da5e",
   "metadata": {
    "extensions": {
     "jupyter_dashboards": {
      "version": 1,
      "views": {
       "default_view": {
        "col": 0,
        "height": 3,
        "row": 58,
        "width": 12
       }
      }
     }
    }
   },
   "outputs": [
    {
     "name": "stdout",
     "output_type": "stream",
     "text": [
      "Requirement already satisfied: voila-gridstack in /Users/suhairkilliyath/miniconda3/envs/work/lib/python3.9/site-packages (0.2.0)\n",
      "Requirement already satisfied: voila<0.3.0,>=0.2.0 in /Users/suhairkilliyath/miniconda3/envs/work/lib/python3.9/site-packages (from voila-gridstack) (0.2.10)\n",
      "Requirement already satisfied: jupyterlab-widgets~=1.0 in /Users/suhairkilliyath/miniconda3/envs/work/lib/python3.9/site-packages (from voila-gridstack) (1.0.0)\n",
      "Requirement already satisfied: jupyter-server<2.0.0,>=0.3.0 in /Users/suhairkilliyath/miniconda3/envs/work/lib/python3.9/site-packages (from voila<0.3.0,>=0.2.0->voila-gridstack) (1.8.0)\n",
      "Requirement already satisfied: jupyter-client<7,>=6.1.3 in /Users/suhairkilliyath/miniconda3/envs/work/lib/python3.9/site-packages (from voila<0.3.0,>=0.2.0->voila-gridstack) (6.1.12)\n",
      "Requirement already satisfied: nbconvert<7,>=6.0.0 in /Users/suhairkilliyath/miniconda3/envs/work/lib/python3.9/site-packages (from voila<0.3.0,>=0.2.0->voila-gridstack) (6.0.7)\n",
      "Requirement already satisfied: nbclient<0.6,>=0.4.0 in /Users/suhairkilliyath/miniconda3/envs/work/lib/python3.9/site-packages (from voila<0.3.0,>=0.2.0->voila-gridstack) (0.5.3)\n",
      "Requirement already satisfied: traitlets in /Users/suhairkilliyath/miniconda3/envs/work/lib/python3.9/site-packages (from jupyter-client<7,>=6.1.3->voila<0.3.0,>=0.2.0->voila-gridstack) (5.0.5)\n",
      "Requirement already satisfied: jupyter-core>=4.6.0 in /Users/suhairkilliyath/miniconda3/envs/work/lib/python3.9/site-packages (from jupyter-client<7,>=6.1.3->voila<0.3.0,>=0.2.0->voila-gridstack) (4.7.1)\n",
      "Requirement already satisfied: tornado>=4.1 in /Users/suhairkilliyath/miniconda3/envs/work/lib/python3.9/site-packages (from jupyter-client<7,>=6.1.3->voila<0.3.0,>=0.2.0->voila-gridstack) (6.1)\n",
      "Requirement already satisfied: pyzmq>=13 in /Users/suhairkilliyath/miniconda3/envs/work/lib/python3.9/site-packages (from jupyter-client<7,>=6.1.3->voila<0.3.0,>=0.2.0->voila-gridstack) (20.0.0)\n",
      "Requirement already satisfied: python-dateutil>=2.1 in /Users/suhairkilliyath/miniconda3/envs/work/lib/python3.9/site-packages (from jupyter-client<7,>=6.1.3->voila<0.3.0,>=0.2.0->voila-gridstack) (2.8.1)\n",
      "Requirement already satisfied: ipython-genutils in /Users/suhairkilliyath/miniconda3/envs/work/lib/python3.9/site-packages (from jupyter-server<2.0.0,>=0.3.0->voila<0.3.0,>=0.2.0->voila-gridstack) (0.2.0)\n",
      "Requirement already satisfied: argon2-cffi in /Users/suhairkilliyath/miniconda3/envs/work/lib/python3.9/site-packages (from jupyter-server<2.0.0,>=0.3.0->voila<0.3.0,>=0.2.0->voila-gridstack) (20.1.0)\n",
      "Requirement already satisfied: nbformat in /Users/suhairkilliyath/miniconda3/envs/work/lib/python3.9/site-packages (from jupyter-server<2.0.0,>=0.3.0->voila<0.3.0,>=0.2.0->voila-gridstack) (5.1.3)\n",
      "Requirement already satisfied: prometheus-client in /Users/suhairkilliyath/miniconda3/envs/work/lib/python3.9/site-packages (from jupyter-server<2.0.0,>=0.3.0->voila<0.3.0,>=0.2.0->voila-gridstack) (0.10.1)\n",
      "Requirement already satisfied: websocket-client in /Users/suhairkilliyath/miniconda3/envs/work/lib/python3.9/site-packages (from jupyter-server<2.0.0,>=0.3.0->voila<0.3.0,>=0.2.0->voila-gridstack) (1.0.1)\n",
      "Requirement already satisfied: Send2Trash in /Users/suhairkilliyath/miniconda3/envs/work/lib/python3.9/site-packages (from jupyter-server<2.0.0,>=0.3.0->voila<0.3.0,>=0.2.0->voila-gridstack) (1.5.0)\n",
      "Requirement already satisfied: anyio<4,>=3.1.0 in /Users/suhairkilliyath/miniconda3/envs/work/lib/python3.9/site-packages (from jupyter-server<2.0.0,>=0.3.0->voila<0.3.0,>=0.2.0->voila-gridstack) (3.1.0)\n",
      "Requirement already satisfied: jinja2 in /Users/suhairkilliyath/miniconda3/envs/work/lib/python3.9/site-packages (from jupyter-server<2.0.0,>=0.3.0->voila<0.3.0,>=0.2.0->voila-gridstack) (3.0.0)\n",
      "Requirement already satisfied: terminado>=0.8.3 in /Users/suhairkilliyath/miniconda3/envs/work/lib/python3.9/site-packages (from jupyter-server<2.0.0,>=0.3.0->voila<0.3.0,>=0.2.0->voila-gridstack) (0.9.4)\n",
      "Requirement already satisfied: sniffio>=1.1 in /Users/suhairkilliyath/miniconda3/envs/work/lib/python3.9/site-packages (from anyio<4,>=3.1.0->jupyter-server<2.0.0,>=0.3.0->voila<0.3.0,>=0.2.0->voila-gridstack) (1.2.0)\n",
      "Requirement already satisfied: idna>=2.8 in /Users/suhairkilliyath/miniconda3/envs/work/lib/python3.9/site-packages (from anyio<4,>=3.1.0->jupyter-server<2.0.0,>=0.3.0->voila<0.3.0,>=0.2.0->voila-gridstack) (2.10)\n",
      "Requirement already satisfied: async-generator in /Users/suhairkilliyath/miniconda3/envs/work/lib/python3.9/site-packages (from nbclient<0.6,>=0.4.0->voila<0.3.0,>=0.2.0->voila-gridstack) (1.10)\n",
      "Requirement already satisfied: nest-asyncio in /Users/suhairkilliyath/miniconda3/envs/work/lib/python3.9/site-packages (from nbclient<0.6,>=0.4.0->voila<0.3.0,>=0.2.0->voila-gridstack) (1.5.1)\n",
      "Requirement already satisfied: mistune<2,>=0.8.1 in /Users/suhairkilliyath/miniconda3/envs/work/lib/python3.9/site-packages (from nbconvert<7,>=6.0.0->voila<0.3.0,>=0.2.0->voila-gridstack) (0.8.4)\n",
      "Requirement already satisfied: pandocfilters>=1.4.1 in /Users/suhairkilliyath/miniconda3/envs/work/lib/python3.9/site-packages (from nbconvert<7,>=6.0.0->voila<0.3.0,>=0.2.0->voila-gridstack) (1.4.3)\n",
      "Requirement already satisfied: jupyterlab-pygments in /Users/suhairkilliyath/miniconda3/envs/work/lib/python3.9/site-packages (from nbconvert<7,>=6.0.0->voila<0.3.0,>=0.2.0->voila-gridstack) (0.1.2)\n",
      "Requirement already satisfied: bleach in /Users/suhairkilliyath/miniconda3/envs/work/lib/python3.9/site-packages (from nbconvert<7,>=6.0.0->voila<0.3.0,>=0.2.0->voila-gridstack) (3.3.0)\n",
      "Requirement already satisfied: testpath in /Users/suhairkilliyath/miniconda3/envs/work/lib/python3.9/site-packages (from nbconvert<7,>=6.0.0->voila<0.3.0,>=0.2.0->voila-gridstack) (0.4.4)\n",
      "Requirement already satisfied: defusedxml in /Users/suhairkilliyath/miniconda3/envs/work/lib/python3.9/site-packages (from nbconvert<7,>=6.0.0->voila<0.3.0,>=0.2.0->voila-gridstack) (0.7.1)\n",
      "Requirement already satisfied: pygments>=2.4.1 in /Users/suhairkilliyath/miniconda3/envs/work/lib/python3.9/site-packages (from nbconvert<7,>=6.0.0->voila<0.3.0,>=0.2.0->voila-gridstack) (2.9.0)\n",
      "Requirement already satisfied: entrypoints>=0.2.2 in /Users/suhairkilliyath/miniconda3/envs/work/lib/python3.9/site-packages (from nbconvert<7,>=6.0.0->voila<0.3.0,>=0.2.0->voila-gridstack) (0.3)\n",
      "Requirement already satisfied: MarkupSafe>=2.0.0rc2 in /Users/suhairkilliyath/miniconda3/envs/work/lib/python3.9/site-packages (from jinja2->jupyter-server<2.0.0,>=0.3.0->voila<0.3.0,>=0.2.0->voila-gridstack) (2.0.1)\n",
      "Requirement already satisfied: jsonschema!=2.5.0,>=2.4 in /Users/suhairkilliyath/miniconda3/envs/work/lib/python3.9/site-packages (from nbformat->jupyter-server<2.0.0,>=0.3.0->voila<0.3.0,>=0.2.0->voila-gridstack) (3.2.0)\n",
      "Requirement already satisfied: setuptools in /Users/suhairkilliyath/miniconda3/envs/work/lib/python3.9/site-packages (from jsonschema!=2.5.0,>=2.4->nbformat->jupyter-server<2.0.0,>=0.3.0->voila<0.3.0,>=0.2.0->voila-gridstack) (52.0.0.post20210125)\n",
      "Requirement already satisfied: attrs>=17.4.0 in /Users/suhairkilliyath/miniconda3/envs/work/lib/python3.9/site-packages (from jsonschema!=2.5.0,>=2.4->nbformat->jupyter-server<2.0.0,>=0.3.0->voila<0.3.0,>=0.2.0->voila-gridstack) (21.2.0)\n",
      "Requirement already satisfied: six>=1.11.0 in /Users/suhairkilliyath/miniconda3/envs/work/lib/python3.9/site-packages (from jsonschema!=2.5.0,>=2.4->nbformat->jupyter-server<2.0.0,>=0.3.0->voila<0.3.0,>=0.2.0->voila-gridstack) (1.15.0)\n",
      "Requirement already satisfied: pyrsistent>=0.14.0 in /Users/suhairkilliyath/miniconda3/envs/work/lib/python3.9/site-packages (from jsonschema!=2.5.0,>=2.4->nbformat->jupyter-server<2.0.0,>=0.3.0->voila<0.3.0,>=0.2.0->voila-gridstack) (0.17.3)\n",
      "Requirement already satisfied: ptyprocess in /Users/suhairkilliyath/miniconda3/envs/work/lib/python3.9/site-packages (from terminado>=0.8.3->jupyter-server<2.0.0,>=0.3.0->voila<0.3.0,>=0.2.0->voila-gridstack) (0.7.0)\n",
      "Requirement already satisfied: cffi>=1.0.0 in /Users/suhairkilliyath/miniconda3/envs/work/lib/python3.9/site-packages (from argon2-cffi->jupyter-server<2.0.0,>=0.3.0->voila<0.3.0,>=0.2.0->voila-gridstack) (1.14.5)\n",
      "Requirement already satisfied: pycparser in /Users/suhairkilliyath/miniconda3/envs/work/lib/python3.9/site-packages (from cffi>=1.0.0->argon2-cffi->jupyter-server<2.0.0,>=0.3.0->voila<0.3.0,>=0.2.0->voila-gridstack) (2.20)\n",
      "Requirement already satisfied: packaging in /Users/suhairkilliyath/miniconda3/envs/work/lib/python3.9/site-packages (from bleach->nbconvert<7,>=6.0.0->voila<0.3.0,>=0.2.0->voila-gridstack) (20.9)\n",
      "Requirement already satisfied: webencodings in /Users/suhairkilliyath/miniconda3/envs/work/lib/python3.9/site-packages (from bleach->nbconvert<7,>=6.0.0->voila<0.3.0,>=0.2.0->voila-gridstack) (0.5.1)\n",
      "Requirement already satisfied: pyparsing>=2.0.2 in /Users/suhairkilliyath/miniconda3/envs/work/lib/python3.9/site-packages (from packaging->bleach->nbconvert<7,>=6.0.0->voila<0.3.0,>=0.2.0->voila-gridstack) (2.4.7)\n"
     ]
    },
    {
     "name": "stdout",
     "output_type": "stream",
     "text": [
      "Note: you may need to restart the kernel to use updated packages.\n"
     ]
    }
   ],
   "source": [
    "pip install voila-gridstack"
   ]
  },
  {
   "cell_type": "code",
   "execution_count": null,
   "id": "05411ae9",
   "metadata": {
    "extensions": {
     "jupyter_dashboards": {
      "version": 1,
      "views": {
       "default_view": {
        "hidden": true
       }
      }
     }
    }
   },
   "outputs": [],
   "source": []
  }
 ],
 "metadata": {
  "extensions": {
   "jupyter_dashboards": {
    "activeView": "default_view",
    "version": 1,
    "views": {
     "default_view": {
      "cellMargin": 10,
      "defaultCellHeight": 40,
      "maxColumns": 12,
      "name": "active_view",
      "type": "grid"
     }
    }
   }
  },
  "kernelspec": {
   "display_name": "work",
   "language": "python",
   "name": "work"
  },
  "language_info": {
   "codemirror_mode": {
    "name": "ipython",
    "version": 3
   },
   "file_extension": ".py",
   "mimetype": "text/x-python",
   "name": "python",
   "nbconvert_exporter": "python",
   "pygments_lexer": "ipython3",
   "version": "3.9.5"
  }
 },
 "nbformat": 4,
 "nbformat_minor": 5
}
